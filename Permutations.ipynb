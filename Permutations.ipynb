{
  "nbformat": 4,
  "nbformat_minor": 0,
  "metadata": {
    "colab": {
      "name": "Permutations.ipynb",
      "provenance": []
    },
    "kernelspec": {
      "name": "python3",
      "display_name": "Python 3"
    },
    "language_info": {
      "name": "python"
    }
  },
  "cells": [
    {
      "cell_type": "code",
      "metadata": {
        "colab": {
          "base_uri": "https://localhost:8080/"
        },
        "id": "zuyKhXxtr-8T",
        "outputId": "a814366a-deaf-4585-98d2-6ef264b8677d"
      },
      "source": [
        "def permutations(word):\n",
        "  if len(word) == 1:\n",
        "    return [word]\n",
        "\n",
        "    perms = permutations(word[1:])\n",
        "    char = word[0]\n",
        "    result = []\n",
        "    for perm in perms:\n",
        "      for i in range(len(perm)+1):\n",
        "        result.append(perm[:i]+ char + perm[i:])\n",
        "        return result\n",
        "print(permutations('abc'))\n",
        "\n",
        "\n",
        "  "
      ],
      "execution_count": 43,
      "outputs": [
        {
          "output_type": "stream",
          "text": [
            "None\n"
          ],
          "name": "stdout"
        }
      ]
    }
  ]
}